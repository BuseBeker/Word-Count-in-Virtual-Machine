{
 "cells": [
  {
   "cell_type": "code",
   "execution_count": 1,
   "id": "3c12b60e",
   "metadata": {},
   "outputs": [],
   "source": [
    "import time\n",
    "\n",
    "start_time = time.time()\n",
    "\n",
    "import findspark\n",
    "findspark.init()"
   ]
  },
  {
   "cell_type": "code",
   "execution_count": 2,
   "id": "6a57c97d",
   "metadata": {},
   "outputs": [],
   "source": [
    "from pyspark import SparkConf\n",
    "from pyspark import SparkContext"
   ]
  },
  {
   "cell_type": "code",
   "execution_count": 3,
   "id": "89e2f385",
   "metadata": {},
   "outputs": [],
   "source": [
    "conf = SparkConf().setAppName(\"191805040_181805024_181805057_181805067\")\n",
    "sc = SparkContext(conf = conf)"
   ]
  },
  {
   "cell_type": "code",
   "execution_count": 4,
   "id": "602c022d",
   "metadata": {},
   "outputs": [
    {
     "name": "stdout",
     "output_type": "stream",
     "text": [
      "Host Name: DESKTOP-244LQ6T\n",
      "Ip Address: 10.0.2.15\n"
     ]
    }
   ],
   "source": [
    "import socket\n",
    "print(f\"Host Name: {socket.gethostname()}\\nIp Address: {socket.gethostbyname(socket.gethostname())}\")"
   ]
  },
  {
   "cell_type": "code",
   "execution_count": 5,
   "id": "5bf35db5",
   "metadata": {},
   "outputs": [],
   "source": [
    "import re\n",
    "def removePunctuation(text):\n",
    "\n",
    "    ans1 = text.lower()   \n",
    "    ans2 = re.sub('[^A-Za-z\\s]', \"\", ans1)\n",
    "    ans3 = ans2.strip()\n",
    "    \n",
    "    return ans3"
   ]
  },
  {
   "cell_type": "code",
   "execution_count": 6,
   "id": "2ab6f020",
   "metadata": {},
   "outputs": [
    {
     "name": "stdout",
     "output_type": "stream",
     "text": [
      "Number of lines: 96000001\n"
     ]
    }
   ],
   "source": [
    "rdd = sc.textFile(\"leipzig12GB.txt\").map(removePunctuation)\n",
    "print(f\"Number of lines: {rdd.count()}\")"
   ]
  },
  {
   "cell_type": "code",
   "execution_count": 7,
   "id": "643396b2",
   "metadata": {},
   "outputs": [],
   "source": [
    "wordsRDD = rdd.flatMap(lambda line: line.split(\" \"))\n",
    "wordCount = wordsRDD.count()"
   ]
  },
  {
   "cell_type": "code",
   "execution_count": 8,
   "id": "219a0854",
   "metadata": {},
   "outputs": [
    {
     "data": {
      "text/plain": [
       "2030737441"
      ]
     },
     "execution_count": 8,
     "metadata": {},
     "output_type": "execute_result"
    }
   ],
   "source": [
    "wordCount"
   ]
  },
  {
   "cell_type": "code",
   "execution_count": 9,
   "id": "a3d93994",
   "metadata": {},
   "outputs": [
    {
     "data": {
      "text/plain": [
       "1988982432"
      ]
     },
     "execution_count": 9,
     "metadata": {},
     "output_type": "execute_result"
    }
   ],
   "source": [
    "wordsRDD = wordsRDD.filter(lambda x: x!=\"\")\n",
    "wordCount = wordsRDD.count()\n",
    "wordCount"
   ]
  },
  {
   "cell_type": "code",
   "execution_count": 11,
   "id": "d51c3d01",
   "metadata": {},
   "outputs": [
    {
     "data": {
      "text/plain": [
       "[('the', 131545248),\n",
       " ('of', 57200160),\n",
       " ('to', 54364608),\n",
       " ('a', 48745728),\n",
       " ('in', 45462432),\n",
       " ('and', 43053024),\n",
       " ('said', 20726112),\n",
       " ('for', 20616864),\n",
       " ('that', 19393632),\n",
       " ('is', 16872480)]"
      ]
     },
     "execution_count": 11,
     "metadata": {},
     "output_type": "execute_result"
    }
   ],
   "source": [
    "def countWord(words):\n",
    "    result = words.map(lambda x: (x,1)).reduceByKey(lambda x, y: x + y)\n",
    "    return result\n",
    "\n",
    "top10Words = countWord(wordsRDD).takeOrdered(10, key= lambda x: -x[1])\n",
    "top10Words"
   ]
  },
  {
   "cell_type": "code",
   "execution_count": 12,
   "id": "4df2bc81",
   "metadata": {},
   "outputs": [],
   "source": [
    "with open('191805040_181805024_181805057_181805067_12GB', 'w') as f:\n",
    "    for i in top10Words:\n",
    "        f.write(','.join(tuple(map(str, i))))"
   ]
  },
  {
   "cell_type": "code",
   "execution_count": 13,
   "id": "7f56f39e",
   "metadata": {},
   "outputs": [
    {
     "name": "stdout",
     "output_type": "stream",
     "text": [
      "Execution time: 4107.766884088516\n"
     ]
    }
   ],
   "source": [
    "print(\"Execution time: {0}\".format(time.time() - start_time))"
   ]
  },
  {
   "cell_type": "code",
   "execution_count": null,
   "id": "cd60b1ef",
   "metadata": {},
   "outputs": [],
   "source": []
  }
 ],
 "metadata": {
  "kernelspec": {
   "display_name": "Python 3 (ipykernel)",
   "language": "python",
   "name": "python3"
  },
  "language_info": {
   "codemirror_mode": {
    "name": "ipython",
    "version": 3
   },
   "file_extension": ".py",
   "mimetype": "text/x-python",
   "name": "python",
   "nbconvert_exporter": "python",
   "pygments_lexer": "ipython3",
   "version": "3.7.4"
  }
 },
 "nbformat": 4,
 "nbformat_minor": 5
}
